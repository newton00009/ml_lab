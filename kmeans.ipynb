{
  "cells": [
    {
      "cell_type": "markdown",
      "metadata": {
        "id": "view-in-github",
        "colab_type": "text"
      },
      "source": [
        "<a href=\"https://colab.research.google.com/github/newton00009/ml_lab/blob/main/kmeans.ipynb\" target=\"_parent\"><img src=\"https://colab.research.google.com/assets/colab-badge.svg\" alt=\"Open In Colab\"/></a>"
      ]
    },
    {
      "cell_type": "code",
      "source": [
        "import pandas as pd\n",
        "import numpy as np\n",
        "import copy\n",
        "import matplotlib.pyplot as plt"
      ],
      "metadata": {
        "id": "CNZ9hPu2sgG3"
      },
      "id": "CNZ9hPu2sgG3",
      "execution_count": 67,
      "outputs": []
    },
    {
      "cell_type": "code",
      "source": [
        "df=pd.read_csv('/content/kmeans.csv')"
      ],
      "metadata": {
        "id": "jhkkyz47s15-"
      },
      "id": "jhkkyz47s15-",
      "execution_count": 43,
      "outputs": []
    },
    {
      "cell_type": "code",
      "source": [
        "k=3\n",
        "x=df.to_numpy()\n",
        "cluster=[0]*len(x)\n",
        "\n",
        "type(cluster)"
      ],
      "metadata": {
        "colab": {
          "base_uri": "https://localhost:8080/"
        },
        "id": "JNnjlUaztjle",
        "outputId": "d85a71bf-167b-4b2f-bbb0-fe3df2d43e44"
      },
      "id": "JNnjlUaztjle",
      "execution_count": 58,
      "outputs": [
        {
          "output_type": "execute_result",
          "data": {
            "text/plain": [
              "list"
            ]
          },
          "metadata": {},
          "execution_count": 58
        }
      ]
    },
    {
      "cell_type": "code",
      "source": [
        "centroid_old=[[0,0]]*k\n",
        "centroid=[[6.2,3.2],[6.6,3.7],[6.5,3.0]]\n",
        "centroid=np.array(centroid)\n",
        "centroid_old=np.array(centroid_old)"
      ],
      "metadata": {
        "id": "9x2K6COdutWB"
      },
      "id": "9x2K6COdutWB",
      "execution_count": 64,
      "outputs": []
    },
    {
      "cell_type": "code",
      "source": [
        "def dis(a,b,ax=1):\n",
        "  return np.linalg.norm(a-b,axis=ax)"
      ],
      "metadata": {
        "id": "CSFKNqy3IPXw"
      },
      "id": "CSFKNqy3IPXw",
      "execution_count": 60,
      "outputs": []
    },
    {
      "cell_type": "code",
      "source": [
        "er=dis(centroid,centroid_old,None)\n",
        "\n",
        "\n",
        "er"
      ],
      "metadata": {
        "colab": {
          "base_uri": "https://localhost:8080/"
        },
        "id": "Kw4UBQjnI2ZA",
        "outputId": "958b13f1-c8b5-4a0a-8027-0dfc09c977f9"
      },
      "id": "Kw4UBQjnI2ZA",
      "execution_count": 65,
      "outputs": [
        {
          "output_type": "execute_result",
          "data": {
            "text/plain": [
              "12.53714481052205"
            ]
          },
          "metadata": {},
          "execution_count": 65
        }
      ]
    },
    {
      "cell_type": "code",
      "source": [
        "itr=0\n",
        "while er!=0:\n",
        "  itr+=1\n",
        "\n",
        "  for i in range(len(x)):\n",
        "    dists=dis(x[i],centroid)\n",
        "    cluster[i]=np.argmin(dists)\n",
        "  \n",
        "  centroid_old=copy.deepcopy(centroid)\n",
        "  print(\"Old Centroid\")\n",
        "  print(centroid_old)\n",
        "  print(\"New Centroid\")\n",
        "  print(centroid)\n",
        "  print(\"Cluster assigned in \"+str(itr)+\"th iteration\")\n",
        "  print(cluster)\n",
        "\n",
        "  for p in range(k):\n",
        "    pts=[x[j] for j in range(len(x)) if cluster[j]==p]\n",
        "    print(pts)\n",
        "    centroid[p]=np.mean(pts,axis=0)\n",
        "\n",
        "\n",
        "\n",
        "  er=dis(centroid,centroid_old,None)\n",
        "  print(\"Error is: \"+str(er))\n",
        "\n",
        "\n",
        "\n"
      ],
      "metadata": {
        "colab": {
          "base_uri": "https://localhost:8080/"
        },
        "id": "ZsDVipGXL_k3",
        "outputId": "671e5448-2bd2-4510-edde-c085323bfb5a"
      },
      "id": "ZsDVipGXL_k3",
      "execution_count": 66,
      "outputs": [
        {
          "output_type": "stream",
          "name": "stdout",
          "text": [
            "Old Centroid\n",
            "[[6.2 3.2]\n",
            " [6.6 3.7]\n",
            " [6.5 3. ]]\n",
            "New Centroid\n",
            "[[6.2 3.2]\n",
            " [6.6 3.7]\n",
            " [6.5 3. ]]\n",
            "Cluster assigned in 1th iteration\n",
            "[0, 0, 2, 0, 1, 0, 0, 2, 0, 0]\n",
            "[array([5.9, 3.2]), array([4.6, 2.9]), array([4.7, 3.2]), array([5., 3.]), array([4.9, 3.1]), array([5.1, 3.8]), array([6., 3.])]\n",
            "[array([5.5, 4.2])]\n",
            "[array([6.2, 2.8]), array([6.7, 3.1])]\n",
            "Error is: 1.588639515498743\n",
            "Old Centroid\n",
            "[[5.17142857 3.17142857]\n",
            " [5.5        4.2       ]\n",
            " [6.45       2.95      ]]\n",
            "New Centroid\n",
            "[[5.17142857 3.17142857]\n",
            " [5.5        4.2       ]\n",
            " [6.45       2.95      ]]\n",
            "Cluster assigned in 2th iteration\n",
            "[2, 0, 2, 0, 1, 0, 0, 2, 1, 2]\n",
            "[array([4.6, 2.9]), array([4.7, 3.2]), array([5., 3.]), array([4.9, 3.1])]\n",
            "[array([5.5, 4.2]), array([5.1, 3.8])]\n",
            "[array([5.9, 3.2]), array([6.2, 2.8]), array([6.7, 3.1]), array([6., 3.])]\n",
            "Error is: 0.548478879841925\n",
            "Old Centroid\n",
            "[[4.8   3.05 ]\n",
            " [5.3   4.   ]\n",
            " [6.2   3.025]]\n",
            "New Centroid\n",
            "[[4.8   3.05 ]\n",
            " [5.3   4.   ]\n",
            " [6.2   3.025]]\n",
            "Cluster assigned in 3th iteration\n",
            "[2, 0, 2, 0, 1, 0, 0, 2, 1, 2]\n",
            "[array([4.6, 2.9]), array([4.7, 3.2]), array([5., 3.]), array([4.9, 3.1])]\n",
            "[array([5.5, 4.2]), array([5.1, 3.8])]\n",
            "[array([5.9, 3.2]), array([6.2, 2.8]), array([6.7, 3.1]), array([6., 3.])]\n",
            "Error is: 0.0\n"
          ]
        }
      ]
    },
    {
      "cell_type": "code",
      "source": [
        "fig=plt.figure()\n",
        "ax=fig.add_subplot()\n",
        "scatter=ax.scatter(df['X1'],df['X2'],c=cluster)"
      ],
      "metadata": {
        "colab": {
          "base_uri": "https://localhost:8080/",
          "height": 265
        },
        "id": "p7MMbtj5e7yt",
        "outputId": "27aafd0a-f80b-45c4-91d2-06527cae0c6d"
      },
      "id": "p7MMbtj5e7yt",
      "execution_count": 70,
      "outputs": [
        {
          "output_type": "display_data",
          "data": {
            "text/plain": [
              "<Figure size 432x288 with 1 Axes>"
            ],
            "image/png": "[encoded data removed]"
          },
          "metadata": {
            "needs_background": "light"
          }
        }
      ]
    }
  ],
  "metadata": {
    "kernelspec": {
      "display_name": "Python 3 (ipykernel)",
      "language": "python",
      "name": "python3"
    },
    "language_info": {
      "codemirror_mode": {
        "name": "ipython",
        "version": 3
      },
      "file_extension": ".py",
      "mimetype": "text/x-python",
      "name": "python",
      "nbconvert_exporter": "python",
      "pygments_lexer": "ipython3",
      "version": "3.7.11"
    },
    "colab": {
      "provenance": [],
      "include_colab_link": true
    }
  },
  "nbformat": 4,
  "nbformat_minor": 5
}